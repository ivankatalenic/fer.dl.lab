{
 "cells": [
  {
   "cell_type": "code",
   "execution_count": 15,
   "id": "191fce7e",
   "metadata": {},
   "outputs": [],
   "source": [
    "import torch"
   ]
  },
  {
   "cell_type": "code",
   "execution_count": 16,
   "id": "cccc4127",
   "metadata": {},
   "outputs": [],
   "source": [
    "step = 0.15"
   ]
  },
  {
   "cell_type": "code",
   "execution_count": 17,
   "id": "6ca928d1",
   "metadata": {},
   "outputs": [],
   "source": [
    "x = torch.tensor(2.0, requires_grad=True)"
   ]
  },
  {
   "cell_type": "code",
   "execution_count": 18,
   "id": "f4ccd67e",
   "metadata": {},
   "outputs": [
    {
     "name": "stdout",
     "output_type": "stream",
     "text": [
      "tensor(2., requires_grad=True) tensor(3., grad_fn=<AddBackward0>) tensor(12.)\n",
      "tensor(0.2000, requires_grad=True) tensor(2.9136, grad_fn=<AddBackward0>) tensor(-0.8880)\n",
      "tensor(0.3332, requires_grad=True) tensor(2.7533, grad_fn=<AddBackward0>) tensor(-1.5179)\n",
      "tensor(0.5609, requires_grad=True) tensor(2.2933, grad_fn=<AddBackward0>) tensor(-2.4815)\n",
      "tensor(0.9331, requires_grad=True) tensor(1.2043, grad_fn=<AddBackward0>) tensor(-3.0947)\n",
      "tensor(1.3973, requires_grad=True) tensor(0.1790, grad_fn=<AddBackward0>) tensor(-0.5337)\n",
      "tensor(1.4774, requires_grad=True) tensor(0.1741, grad_fn=<AddBackward0>) tensor(0.4409)\n",
      "tensor(1.4112, requires_grad=True) tensor(0.1726, grad_fn=<AddBackward0>) tensor(-0.3773)\n",
      "tensor(1.4678, requires_grad=True) tensor(0.1705, grad_fn=<AddBackward0>) tensor(0.3150)\n",
      "tensor(1.4206, requires_grad=True) tensor(0.1696, grad_fn=<AddBackward0>) tensor(-0.2693)\n",
      "tensor(1.4610, requires_grad=True) tensor(0.1686, grad_fn=<AddBackward0>) tensor(0.2262)\n",
      "tensor(1.4270, requires_grad=True) tensor(0.1681, grad_fn=<AddBackward0>) tensor(-0.1931)\n",
      "tensor(1.4560, requires_grad=True) tensor(0.1676, grad_fn=<AddBackward0>) tensor(0.1628)\n",
      "tensor(1.4316, requires_grad=True) tensor(0.1674, grad_fn=<AddBackward0>) tensor(-0.1389)\n",
      "tensor(1.4524, requires_grad=True) tensor(0.1671, grad_fn=<AddBackward0>) tensor(0.1174)\n",
      "tensor(1.4348, requires_grad=True) tensor(0.1670, grad_fn=<AddBackward0>) tensor(-0.1000)\n",
      "tensor(1.4498, requires_grad=True) tensor(0.1669, grad_fn=<AddBackward0>) tensor(0.0847)\n",
      "tensor(1.4371, requires_grad=True) tensor(0.1668, grad_fn=<AddBackward0>) tensor(-0.0721)\n",
      "tensor(1.4479, requires_grad=True) tensor(0.1667, grad_fn=<AddBackward0>) tensor(0.0611)\n",
      "tensor(1.4388, requires_grad=True) tensor(0.1667, grad_fn=<AddBackward0>) tensor(-0.0520)\n",
      "tensor(1.4466, requires_grad=True) tensor(0.1667, grad_fn=<AddBackward0>) tensor(0.0441)\n",
      "tensor(1.4400, requires_grad=True) tensor(0.1666, grad_fn=<AddBackward0>) tensor(-0.0375)\n",
      "tensor(1.4456, requires_grad=True) tensor(0.1666, grad_fn=<AddBackward0>) tensor(0.0318)\n",
      "tensor(1.4408, requires_grad=True) tensor(0.1666, grad_fn=<AddBackward0>) tensor(-0.0270)\n",
      "tensor(1.4449, requires_grad=True) tensor(0.1666, grad_fn=<AddBackward0>) tensor(0.0229)\n",
      "tensor(1.4414, requires_grad=True) tensor(0.1666, grad_fn=<AddBackward0>) tensor(-0.0195)\n",
      "tensor(1.4443, requires_grad=True) tensor(0.1666, grad_fn=<AddBackward0>) tensor(0.0165)\n",
      "tensor(1.4419, requires_grad=True) tensor(0.1666, grad_fn=<AddBackward0>) tensor(-0.0141)\n",
      "tensor(1.4440, requires_grad=True) tensor(0.1666, grad_fn=<AddBackward0>) tensor(0.0119)\n",
      "tensor(1.4422, requires_grad=True) tensor(0.1666, grad_fn=<AddBackward0>) tensor(-0.0101)\n",
      "tensor(1.4437, requires_grad=True) tensor(0.1666, grad_fn=<AddBackward0>) tensor(0.0086)\n",
      "tensor(1.4424, requires_grad=True) tensor(0.1666, grad_fn=<AddBackward0>) tensor(-0.0073)\n",
      "tensor(1.4435, requires_grad=True) tensor(0.1666, grad_fn=<AddBackward0>) tensor(0.0062)\n",
      "tensor(1.4426, requires_grad=True) tensor(0.1666, grad_fn=<AddBackward0>) tensor(-0.0053)\n",
      "tensor(1.4434, requires_grad=True) tensor(0.1666, grad_fn=<AddBackward0>) tensor(0.0045)\n",
      "tensor(1.4427, requires_grad=True) tensor(0.1666, grad_fn=<AddBackward0>) tensor(-0.0038)\n",
      "tensor(1.4433, requires_grad=True) tensor(0.1666, grad_fn=<AddBackward0>) tensor(0.0032)\n",
      "tensor(1.4428, requires_grad=True) tensor(0.1666, grad_fn=<AddBackward0>) tensor(-0.0027)\n",
      "tensor(1.4432, requires_grad=True) tensor(0.1666, grad_fn=<AddBackward0>) tensor(0.0023)\n",
      "tensor(1.4428, requires_grad=True) tensor(0.1666, grad_fn=<AddBackward0>) tensor(-0.0020)\n",
      "tensor(1.4431, requires_grad=True) tensor(0.1666, grad_fn=<AddBackward0>) tensor(0.0017)\n",
      "tensor(1.4429, requires_grad=True) tensor(0.1666, grad_fn=<AddBackward0>) tensor(-0.0014)\n",
      "tensor(1.4431, requires_grad=True) tensor(0.1666, grad_fn=<AddBackward0>) tensor(0.0012)\n",
      "tensor(1.4429, requires_grad=True) tensor(0.1666, grad_fn=<AddBackward0>) tensor(-0.0010)\n",
      "tensor(1.4431, requires_grad=True) tensor(0.1666, grad_fn=<AddBackward0>) tensor(0.0009)\n",
      "tensor(1.4429, requires_grad=True) tensor(0.1666, grad_fn=<AddBackward0>) tensor(-0.0007)\n",
      "tensor(1.4431, requires_grad=True) tensor(0.1666, grad_fn=<AddBackward0>) tensor(0.0006)\n",
      "tensor(1.4430, requires_grad=True) tensor(0.1666, grad_fn=<AddBackward0>) tensor(-0.0005)\n",
      "tensor(1.4430, requires_grad=True) tensor(0.1666, grad_fn=<AddBackward0>) tensor(0.0005)\n",
      "tensor(1.4430, requires_grad=True) tensor(0.1666, grad_fn=<AddBackward0>) tensor(-0.0004)\n",
      "tensor(1.4430, requires_grad=True) tensor(0.1666, grad_fn=<AddBackward0>) tensor(0.0003)\n",
      "tensor(1.4430, requires_grad=True) tensor(0.1666, grad_fn=<AddBackward0>) tensor(-0.0003)\n",
      "tensor(1.4430, requires_grad=True) tensor(0.1666, grad_fn=<AddBackward0>) tensor(0.0002)\n",
      "tensor(1.4430, requires_grad=True) tensor(0.1666, grad_fn=<AddBackward0>) tensor(-0.0002)\n",
      "tensor(1.4430, requires_grad=True) tensor(0.1666, grad_fn=<AddBackward0>) tensor(0.0002)\n",
      "tensor(1.4430, requires_grad=True) tensor(0.1666, grad_fn=<AddBackward0>) tensor(-0.0001)\n",
      "tensor(1.4430, requires_grad=True) tensor(0.1666, grad_fn=<AddBackward0>) tensor(0.0001)\n",
      "tensor(1.4430, requires_grad=True) tensor(0.1666, grad_fn=<AddBackward0>) tensor(-0.0001)\n",
      "tensor(1.4430, requires_grad=True) tensor(0.1666, grad_fn=<AddBackward0>) tensor(8.9645e-05)\n",
      "tensor(1.4430, requires_grad=True) tensor(0.1666, grad_fn=<AddBackward0>) tensor(-7.7248e-05)\n",
      "tensor(1.4430, requires_grad=True) tensor(0.1666, grad_fn=<AddBackward0>) tensor(6.5804e-05)\n",
      "tensor(1.4430, requires_grad=True) tensor(0.1666, grad_fn=<AddBackward0>) tensor(-5.6267e-05)\n",
      "tensor(1.4430, requires_grad=True) tensor(0.1666, grad_fn=<AddBackward0>) tensor(4.7684e-05)\n",
      "tensor(1.4430, requires_grad=True) tensor(0.1666, grad_fn=<AddBackward0>) tensor(-4.0054e-05)\n",
      "tensor(1.4430, requires_grad=True) tensor(0.1666, grad_fn=<AddBackward0>) tensor(3.3379e-05)\n",
      "tensor(1.4430, requires_grad=True) tensor(0.1666, grad_fn=<AddBackward0>) tensor(-2.8610e-05)\n",
      "tensor(1.4430, requires_grad=True) tensor(0.1666, grad_fn=<AddBackward0>) tensor(2.4796e-05)\n",
      "tensor(1.4430, requires_grad=True) tensor(0.1666, grad_fn=<AddBackward0>) tensor(-2.0981e-05)\n",
      "tensor(1.4430, requires_grad=True) tensor(0.1666, grad_fn=<AddBackward0>) tensor(1.8120e-05)\n",
      "tensor(1.4430, requires_grad=True) tensor(0.1666, grad_fn=<AddBackward0>) tensor(-1.6212e-05)\n",
      "tensor(1.4430, requires_grad=True) tensor(0.1666, grad_fn=<AddBackward0>) tensor(1.3351e-05)\n",
      "tensor(1.4430, requires_grad=True) tensor(0.1666, grad_fn=<AddBackward0>) tensor(-1.1444e-05)\n",
      "tensor(1.4430, requires_grad=True) tensor(0.1666, grad_fn=<AddBackward0>) tensor(8.5831e-06)\n",
      "tensor(1.4430, requires_grad=True) tensor(0.1666, grad_fn=<AddBackward0>) tensor(-7.6294e-06)\n",
      "tensor(1.4430, requires_grad=True) tensor(0.1666, grad_fn=<AddBackward0>) tensor(6.6757e-06)\n",
      "tensor(1.4430, requires_grad=True) tensor(0.1666, grad_fn=<AddBackward0>) tensor(-4.7684e-06)\n",
      "tensor(1.4430, requires_grad=True) tensor(0.1666, grad_fn=<AddBackward0>) tensor(4.7684e-06)\n",
      "tensor(1.4430, requires_grad=True) tensor(0.1666, grad_fn=<AddBackward0>) tensor(-4.7684e-06)\n",
      "tensor(1.4430, requires_grad=True) tensor(0.1666, grad_fn=<AddBackward0>) tensor(4.7684e-06)\n",
      "tensor(1.4430, requires_grad=True) tensor(0.1666, grad_fn=<AddBackward0>) tensor(-4.7684e-06)\n",
      "tensor(1.4430, requires_grad=True) tensor(0.1666, grad_fn=<AddBackward0>) tensor(4.7684e-06)\n",
      "tensor(1.4430, requires_grad=True) tensor(0.1666, grad_fn=<AddBackward0>) tensor(-4.7684e-06)\n",
      "tensor(1.4430, requires_grad=True) tensor(0.1666, grad_fn=<AddBackward0>) tensor(4.7684e-06)\n",
      "tensor(1.4430, requires_grad=True) tensor(0.1666, grad_fn=<AddBackward0>) tensor(-4.7684e-06)\n",
      "tensor(1.4430, requires_grad=True) tensor(0.1666, grad_fn=<AddBackward0>) tensor(4.7684e-06)\n",
      "tensor(1.4430, requires_grad=True) tensor(0.1666, grad_fn=<AddBackward0>) tensor(-4.7684e-06)\n",
      "tensor(1.4430, requires_grad=True) tensor(0.1666, grad_fn=<AddBackward0>) tensor(4.7684e-06)\n",
      "tensor(1.4430, requires_grad=True) tensor(0.1666, grad_fn=<AddBackward0>) tensor(-4.7684e-06)\n",
      "tensor(1.4430, requires_grad=True) tensor(0.1666, grad_fn=<AddBackward0>) tensor(4.7684e-06)\n",
      "tensor(1.4430, requires_grad=True) tensor(0.1666, grad_fn=<AddBackward0>) tensor(-4.7684e-06)\n",
      "tensor(1.4430, requires_grad=True) tensor(0.1666, grad_fn=<AddBackward0>) tensor(4.7684e-06)\n",
      "tensor(1.4430, requires_grad=True) tensor(0.1666, grad_fn=<AddBackward0>) tensor(-4.7684e-06)\n",
      "tensor(1.4430, requires_grad=True) tensor(0.1666, grad_fn=<AddBackward0>) tensor(4.7684e-06)\n",
      "tensor(1.4430, requires_grad=True) tensor(0.1666, grad_fn=<AddBackward0>) tensor(-4.7684e-06)\n",
      "tensor(1.4430, requires_grad=True) tensor(0.1666, grad_fn=<AddBackward0>) tensor(4.7684e-06)\n",
      "tensor(1.4430, requires_grad=True) tensor(0.1666, grad_fn=<AddBackward0>) tensor(-4.7684e-06)\n",
      "tensor(1.4430, requires_grad=True) tensor(0.1666, grad_fn=<AddBackward0>) tensor(4.7684e-06)\n",
      "tensor(1.4430, requires_grad=True) tensor(0.1666, grad_fn=<AddBackward0>) tensor(-4.7684e-06)\n",
      "tensor(1.4430, requires_grad=True) tensor(0.1666, grad_fn=<AddBackward0>) tensor(4.7684e-06)\n",
      "tensor(1.4430, requires_grad=True) tensor(0.1666, grad_fn=<AddBackward0>) tensor(-4.7684e-06)\n"
     ]
    }
   ],
   "source": [
    "for i in range(100):\n",
    "    y = x**4 - x**3 - 2*x**2 + 3\n",
    "    y.backward()\n",
    "    \n",
    "    print(x, y, x.grad)\n",
    "    \n",
    "    x.data = x.data - step * x.grad\n",
    "    x.grad.zero_()"
   ]
  },
  {
   "cell_type": "code",
   "execution_count": 19,
   "id": "c08dd9f6",
   "metadata": {},
   "outputs": [
    {
     "ename": "ModuleNotFoundError",
     "evalue": "No module named 'matplotlib'",
     "output_type": "error",
     "traceback": [
      "\u001b[1;31m---------------------------------------------------------------------------\u001b[0m",
      "\u001b[1;31mModuleNotFoundError\u001b[0m                       Traceback (most recent call last)",
      "Cell \u001b[1;32mIn[19], line 1\u001b[0m\n\u001b[1;32m----> 1\u001b[0m \u001b[38;5;28;01mimport\u001b[39;00m \u001b[38;5;21;01mmatplotlib\u001b[39;00m\u001b[38;5;21;01m.\u001b[39;00m\u001b[38;5;21;01mplyplot\u001b[39;00m \u001b[38;5;28;01mas\u001b[39;00m \u001b[38;5;21;01mplt\u001b[39;00m\n",
      "\u001b[1;31mModuleNotFoundError\u001b[0m: No module named 'matplotlib'"
     ]
    }
   ],
   "source": [
    "import matplotlib.plyplot as plt"
   ]
  },
  {
   "cell_type": "code",
   "execution_count": null,
   "id": "2d6d4f7a",
   "metadata": {},
   "outputs": [],
   "source": []
  }
 ],
 "metadata": {
  "kernelspec": {
   "display_name": "Python 3 (ipykernel)",
   "language": "python",
   "name": "python3"
  },
  "language_info": {
   "codemirror_mode": {
    "name": "ipython",
    "version": 3
   },
   "file_extension": ".py",
   "mimetype": "text/x-python",
   "name": "python",
   "nbconvert_exporter": "python",
   "pygments_lexer": "ipython3",
   "version": "3.11.2"
  }
 },
 "nbformat": 4,
 "nbformat_minor": 5
}
